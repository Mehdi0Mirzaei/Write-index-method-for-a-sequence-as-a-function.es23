{
 "cells": [
  {
   "cell_type": "code",
   "execution_count": 16,
   "id": "48c8501f",
   "metadata": {},
   "outputs": [],
   "source": [
    "def my_index(lst, value):\n",
    "    for index, item in enumerate(lst):\n",
    "        if item == value:\n",
    "            return index\n",
    "    raise ValueError(f\"{value} not found in list\")\n"
   ]
  },
  {
   "cell_type": "code",
   "execution_count": 26,
   "id": "1df7beaa",
   "metadata": {},
   "outputs": [
    {
     "data": {
      "text/plain": [
       "3"
      ]
     },
     "execution_count": 26,
     "metadata": {},
     "output_type": "execute_result"
    }
   ],
   "source": [
    "my_index([1,2,3,45,6,78,54],45)"
   ]
  },
  {
   "cell_type": "code",
   "execution_count": 27,
   "id": "5b0b1fa4",
   "metadata": {},
   "outputs": [],
   "source": [
    "def my_index_str(input_string, substring):\n",
    "    for index in range(len(input_string) - len(substring) + 1):\n",
    "        if input_string[index:index+len(substring)] == substring:\n",
    "            return index\n",
    "    raise ValueError(f\"{substring} not found in string\")\n",
    "\n"
   ]
  },
  {
   "cell_type": "code",
   "execution_count": 28,
   "id": "15f87978",
   "metadata": {},
   "outputs": [
    {
     "data": {
      "text/plain": [
       "17"
      ]
     },
     "execution_count": 28,
     "metadata": {},
     "output_type": "execute_result"
    }
   ],
   "source": [
    "my_index_str('Hello,everything is OK!!!','is')"
   ]
  },
  {
   "cell_type": "code",
   "execution_count": null,
   "id": "a6fbd992",
   "metadata": {},
   "outputs": [],
   "source": []
  }
 ],
 "metadata": {
  "kernelspec": {
   "display_name": "Python 3 (ipykernel)",
   "language": "python",
   "name": "python3"
  },
  "language_info": {
   "codemirror_mode": {
    "name": "ipython",
    "version": 3
   },
   "file_extension": ".py",
   "mimetype": "text/x-python",
   "name": "python",
   "nbconvert_exporter": "python",
   "pygments_lexer": "ipython3",
   "version": "3.9.17"
  }
 },
 "nbformat": 4,
 "nbformat_minor": 5
}
